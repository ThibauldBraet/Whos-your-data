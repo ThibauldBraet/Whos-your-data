{
 "cells": [
  {
   "cell_type": "code",
   "execution_count": 1,
   "metadata": {},
   "outputs": [
    {
     "data": {
      "text/plain": [
       "array(['Jackson Heights', 'Glen Oaks', 'New Hyde Park', 'Bellerose',\n",
       "       'Fresh Meadows', 'Elmhurst', 'Floral Park', 'Forest Hills',\n",
       "       'Queens Village', 'Rego Park', 'Hollis', 'Jamaica',\n",
       "       'Middle Village', 'Kew Gardens', 'Richmond Hill', 'Brooklyn',\n",
       "       'Woodhaven', 'South Richmond Hill', 'Ozone Park', 'Bronx',\n",
       "       'New York', 'Whitestone', 'Central Park', 'College Point',\n",
       "       'Bayside', 'Astoria', 'Flushing', 'Little Neck', 'East Elmhurst',\n",
       "       'Corona', 'Woodside', 'Long Island City', 'Oakland Gardens',\n",
       "       'Sunnyside', 'Maspeth', 'Ridgewood', 'Saint Albans',\n",
       "       'Cambria Heights', 'Springfield Gardens', 'Rosedale',\n",
       "       'South Ozone Park', 'Howard Beach', 'Staten Island',\n",
       "       'Far Rockaway', 'Inwood', 'Arverne', 'Rockaway Park',\n",
       "       'Breezy Point'], dtype=object)"
      ]
     },
     "metadata": {},
     "output_type": "display_data"
    }
   ],
   "source": [
    "import json\n",
    "import os\n",
    "import pandas as pd\n",
    "from pprint import pprint\n",
    "\n",
    "postcode_edge = json.load(open(os.path.join('data', 'nyc-postcode.json')));\n",
    "\n",
    "zipcodes = postcode_edge['features']\n",
    "\n",
    "df = pd.DataFrame(columns=['ZIP CODE', 'PO_NAME'])\n",
    "\n",
    "for i in zipcodes:\n",
    "    df = df.append({'ZIP CODE': i['properties']['postalCode'], 'PO_NAME': i['properties']['PO_NAME']}, ignore_index=True)\n",
    "#     df = df.append([i['properties']['postalCode'], i['properties']['PO_NAME']])\n",
    "#     print(\"Zipcode: \"+str(i['properties']['postalCode'])+\", neighbourhood:\"+str(i['properties']['PO_NAME']))\n",
    "\n",
    "display(df['PO_NAME'].unique())\n",
    "df.to_csv('./data/zip_neighbourhood.csv', index=False)\n"
   ]
  },
  {
   "cell_type": "code",
   "execution_count": null,
   "metadata": {},
   "outputs": [],
   "source": []
  }
 ],
 "metadata": {
  "kernelspec": {
   "display_name": "Python 3",
   "language": "python",
   "name": "python3"
  },
  "language_info": {
   "codemirror_mode": {
    "name": "ipython",
    "version": 3
   },
   "file_extension": ".py",
   "mimetype": "text/x-python",
   "name": "python",
   "nbconvert_exporter": "python",
   "pygments_lexer": "ipython3",
   "version": "3.6.7"
  }
 },
 "nbformat": 4,
 "nbformat_minor": 2
}
